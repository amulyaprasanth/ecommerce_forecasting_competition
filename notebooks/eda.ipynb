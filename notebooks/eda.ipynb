{
 "cells": [
  {
   "cell_type": "markdown",
   "metadata": {},
   "source": [
    "# Exploratory Data Analysis (EDA)\n",
    "\n",
    "This notebook contains code for exploratory data analysis (EDA) on the provided dataset. The EDA aims to gain insights into the data, identify patterns, and identify any potential issues or anomalies.\n",
    "\n",
    "Here: the target variable is **'Sales_Quantity'**"
   ]
  },
  {
   "cell_type": "code",
   "execution_count": 1,
   "metadata": {},
   "outputs": [],
   "source": [
    "# Import the required libraries\n",
    "import numpy as np\n",
    "import pandas as pd\n",
    "\n",
    "%matplotlib inline\n",
    "import matplotlib.pyplot as plt"
   ]
  },
  {
   "cell_type": "code",
   "execution_count": 2,
   "metadata": {},
   "outputs": [
    {
     "data": {
      "text/html": [
       "<div>\n",
       "<style scoped>\n",
       "    .dataframe tbody tr th:only-of-type {\n",
       "        vertical-align: middle;\n",
       "    }\n",
       "\n",
       "    .dataframe tbody tr th {\n",
       "        vertical-align: top;\n",
       "    }\n",
       "\n",
       "    .dataframe thead th {\n",
       "        text-align: right;\n",
       "    }\n",
       "</style>\n",
       "<table border=\"1\" class=\"dataframe\">\n",
       "  <thead>\n",
       "    <tr style=\"text-align: right;\">\n",
       "      <th></th>\n",
       "      <th>Date</th>\n",
       "      <th>Category</th>\n",
       "      <th>Brand</th>\n",
       "      <th>Day_of_Week</th>\n",
       "      <th>Holiday_Indicator</th>\n",
       "      <th>Past_Purchase_Trends</th>\n",
       "      <th>Price</th>\n",
       "      <th>Discount</th>\n",
       "      <th>Competitor_Price</th>\n",
       "      <th>Sales_Quantity</th>\n",
       "    </tr>\n",
       "  </thead>\n",
       "  <tbody>\n",
       "    <tr>\n",
       "      <th>0</th>\n",
       "      <td>26/09/24</td>\n",
       "      <td>Automotive</td>\n",
       "      <td>BrandA</td>\n",
       "      <td>3</td>\n",
       "      <td>0</td>\n",
       "      <td>17.9</td>\n",
       "      <td>462.30</td>\n",
       "      <td>33.96</td>\n",
       "      <td>359.45</td>\n",
       "      <td>227.0</td>\n",
       "    </tr>\n",
       "    <tr>\n",
       "      <th>1</th>\n",
       "      <td>26/09/24</td>\n",
       "      <td>Automotive</td>\n",
       "      <td>BrandA</td>\n",
       "      <td>3</td>\n",
       "      <td>0</td>\n",
       "      <td>66.3</td>\n",
       "      <td>321.28</td>\n",
       "      <td>24.76</td>\n",
       "      <td>49.47</td>\n",
       "      <td>370.0</td>\n",
       "    </tr>\n",
       "    <tr>\n",
       "      <th>2</th>\n",
       "      <td>26/09/24</td>\n",
       "      <td>Automotive</td>\n",
       "      <td>BrandA</td>\n",
       "      <td>3</td>\n",
       "      <td>0</td>\n",
       "      <td>14.4</td>\n",
       "      <td>74.85</td>\n",
       "      <td>32.19</td>\n",
       "      <td>245.11</td>\n",
       "      <td>299.0</td>\n",
       "    </tr>\n",
       "    <tr>\n",
       "      <th>3</th>\n",
       "      <td>26/09/24</td>\n",
       "      <td>Automotive</td>\n",
       "      <td>BrandA</td>\n",
       "      <td>3</td>\n",
       "      <td>0</td>\n",
       "      <td>34.7</td>\n",
       "      <td>469.12</td>\n",
       "      <td>43.68</td>\n",
       "      <td>144.08</td>\n",
       "      <td>426.0</td>\n",
       "    </tr>\n",
       "    <tr>\n",
       "      <th>4</th>\n",
       "      <td>22/09/24</td>\n",
       "      <td>Automotive</td>\n",
       "      <td>BrandA</td>\n",
       "      <td>6</td>\n",
       "      <td>1</td>\n",
       "      <td>93.5</td>\n",
       "      <td>221.76</td>\n",
       "      <td>36.79</td>\n",
       "      <td>478.07</td>\n",
       "      <td>470.0</td>\n",
       "    </tr>\n",
       "  </tbody>\n",
       "</table>\n",
       "</div>"
      ],
      "text/plain": [
       "       Date    Category   Brand  Day_of_Week  Holiday_Indicator  \\\n",
       "0  26/09/24  Automotive  BrandA            3                  0   \n",
       "1  26/09/24  Automotive  BrandA            3                  0   \n",
       "2  26/09/24  Automotive  BrandA            3                  0   \n",
       "3  26/09/24  Automotive  BrandA            3                  0   \n",
       "4  22/09/24  Automotive  BrandA            6                  1   \n",
       "\n",
       "   Past_Purchase_Trends   Price  Discount  Competitor_Price  Sales_Quantity  \n",
       "0                  17.9  462.30     33.96            359.45           227.0  \n",
       "1                  66.3  321.28     24.76             49.47           370.0  \n",
       "2                  14.4   74.85     32.19            245.11           299.0  \n",
       "3                  34.7  469.12     43.68            144.08           426.0  \n",
       "4                  93.5  221.76     36.79            478.07           470.0  "
      ]
     },
     "execution_count": 2,
     "metadata": {},
     "output_type": "execute_result"
    }
   ],
   "source": [
    "# Get the dataset \n",
    "data = pd.read_csv('../data/Dataset/Train.csv')\n",
    "data.head()"
   ]
  },
  {
   "cell_type": "code",
   "execution_count": 3,
   "metadata": {},
   "outputs": [
    {
     "name": "stdout",
     "output_type": "stream",
     "text": [
      "<class 'pandas.core.frame.DataFrame'>\n",
      "RangeIndex: 18483 entries, 0 to 18482\n",
      "Data columns (total 10 columns):\n",
      " #   Column                Non-Null Count  Dtype  \n",
      "---  ------                --------------  -----  \n",
      " 0   Date                  18483 non-null  object \n",
      " 1   Category              18483 non-null  object \n",
      " 2   Brand                 18483 non-null  object \n",
      " 3   Day_of_Week           18483 non-null  int64  \n",
      " 4   Holiday_Indicator     18483 non-null  int64  \n",
      " 5   Past_Purchase_Trends  18483 non-null  float64\n",
      " 6   Price                 18483 non-null  float64\n",
      " 7   Discount              18483 non-null  float64\n",
      " 8   Competitor_Price      18483 non-null  float64\n",
      " 9   Sales_Quantity        18019 non-null  float64\n",
      "dtypes: float64(5), int64(2), object(3)\n",
      "memory usage: 1.4+ MB\n"
     ]
    }
   ],
   "source": [
    "# Get the information statistics of the dataset\n",
    "data.info()"
   ]
  },
  {
   "cell_type": "code",
   "execution_count": 4,
   "metadata": {},
   "outputs": [
    {
     "data": {
      "text/html": [
       "<div>\n",
       "<style scoped>\n",
       "    .dataframe tbody tr th:only-of-type {\n",
       "        vertical-align: middle;\n",
       "    }\n",
       "\n",
       "    .dataframe tbody tr th {\n",
       "        vertical-align: top;\n",
       "    }\n",
       "\n",
       "    .dataframe thead th {\n",
       "        text-align: right;\n",
       "    }\n",
       "</style>\n",
       "<table border=\"1\" class=\"dataframe\">\n",
       "  <thead>\n",
       "    <tr style=\"text-align: right;\">\n",
       "      <th></th>\n",
       "      <th>Day_of_Week</th>\n",
       "      <th>Holiday_Indicator</th>\n",
       "      <th>Past_Purchase_Trends</th>\n",
       "      <th>Price</th>\n",
       "      <th>Discount</th>\n",
       "      <th>Competitor_Price</th>\n",
       "      <th>Sales_Quantity</th>\n",
       "    </tr>\n",
       "  </thead>\n",
       "  <tbody>\n",
       "    <tr>\n",
       "      <th>count</th>\n",
       "      <td>18483.000000</td>\n",
       "      <td>18483.000000</td>\n",
       "      <td>18483.000000</td>\n",
       "      <td>18483.000000</td>\n",
       "      <td>18483.000000</td>\n",
       "      <td>18483.000000</td>\n",
       "      <td>18019.000000</td>\n",
       "    </tr>\n",
       "    <tr>\n",
       "      <th>mean</th>\n",
       "      <td>2.991235</td>\n",
       "      <td>0.142022</td>\n",
       "      <td>52.329465</td>\n",
       "      <td>275.111184</td>\n",
       "      <td>27.490937</td>\n",
       "      <td>259.858758</td>\n",
       "      <td>255.665631</td>\n",
       "    </tr>\n",
       "    <tr>\n",
       "      <th>std</th>\n",
       "      <td>2.000765</td>\n",
       "      <td>0.349083</td>\n",
       "      <td>27.410577</td>\n",
       "      <td>129.733609</td>\n",
       "      <td>13.022521</td>\n",
       "      <td>126.653165</td>\n",
       "      <td>141.179795</td>\n",
       "    </tr>\n",
       "    <tr>\n",
       "      <th>min</th>\n",
       "      <td>0.000000</td>\n",
       "      <td>0.000000</td>\n",
       "      <td>5.000000</td>\n",
       "      <td>50.070000</td>\n",
       "      <td>5.000000</td>\n",
       "      <td>40.070000</td>\n",
       "      <td>10.000000</td>\n",
       "    </tr>\n",
       "    <tr>\n",
       "      <th>25%</th>\n",
       "      <td>1.000000</td>\n",
       "      <td>0.000000</td>\n",
       "      <td>28.900000</td>\n",
       "      <td>163.315000</td>\n",
       "      <td>16.265000</td>\n",
       "      <td>149.530000</td>\n",
       "      <td>133.500000</td>\n",
       "    </tr>\n",
       "    <tr>\n",
       "      <th>50%</th>\n",
       "      <td>3.000000</td>\n",
       "      <td>0.000000</td>\n",
       "      <td>52.500000</td>\n",
       "      <td>275.150000</td>\n",
       "      <td>27.600000</td>\n",
       "      <td>260.260000</td>\n",
       "      <td>257.000000</td>\n",
       "    </tr>\n",
       "    <tr>\n",
       "      <th>75%</th>\n",
       "      <td>5.000000</td>\n",
       "      <td>0.000000</td>\n",
       "      <td>75.700000</td>\n",
       "      <td>387.650000</td>\n",
       "      <td>38.690000</td>\n",
       "      <td>368.520000</td>\n",
       "      <td>377.000000</td>\n",
       "    </tr>\n",
       "    <tr>\n",
       "      <th>max</th>\n",
       "      <td>6.000000</td>\n",
       "      <td>1.000000</td>\n",
       "      <td>100.000000</td>\n",
       "      <td>499.900000</td>\n",
       "      <td>49.990000</td>\n",
       "      <td>479.990000</td>\n",
       "      <td>499.000000</td>\n",
       "    </tr>\n",
       "  </tbody>\n",
       "</table>\n",
       "</div>"
      ],
      "text/plain": [
       "        Day_of_Week  Holiday_Indicator  Past_Purchase_Trends         Price  \\\n",
       "count  18483.000000       18483.000000          18483.000000  18483.000000   \n",
       "mean       2.991235           0.142022             52.329465    275.111184   \n",
       "std        2.000765           0.349083             27.410577    129.733609   \n",
       "min        0.000000           0.000000              5.000000     50.070000   \n",
       "25%        1.000000           0.000000             28.900000    163.315000   \n",
       "50%        3.000000           0.000000             52.500000    275.150000   \n",
       "75%        5.000000           0.000000             75.700000    387.650000   \n",
       "max        6.000000           1.000000            100.000000    499.900000   \n",
       "\n",
       "           Discount  Competitor_Price  Sales_Quantity  \n",
       "count  18483.000000      18483.000000    18019.000000  \n",
       "mean      27.490937        259.858758      255.665631  \n",
       "std       13.022521        126.653165      141.179795  \n",
       "min        5.000000         40.070000       10.000000  \n",
       "25%       16.265000        149.530000      133.500000  \n",
       "50%       27.600000        260.260000      257.000000  \n",
       "75%       38.690000        368.520000      377.000000  \n",
       "max       49.990000        479.990000      499.000000  "
      ]
     },
     "execution_count": 4,
     "metadata": {},
     "output_type": "execute_result"
    }
   ],
   "source": [
    "# Get the descriptive statistics of the dataset\n",
    "data.describe()"
   ]
  },
  {
   "cell_type": "code",
   "execution_count": 5,
   "metadata": {},
   "outputs": [
    {
     "name": "stderr",
     "output_type": "stream",
     "text": [
      "C:\\Users\\amuly\\AppData\\Local\\Temp\\ipykernel_6536\\2931635137.py:2: UserWarning: Could not infer format, so each element will be parsed individually, falling back to `dateutil`. To ensure parsing is consistent and as-expected, please specify a format.\n",
      "  data['Date'] = pd.to_datetime(data['Date']).dt.date\n"
     ]
    },
    {
     "data": {
      "text/html": [
       "<div>\n",
       "<style scoped>\n",
       "    .dataframe tbody tr th:only-of-type {\n",
       "        vertical-align: middle;\n",
       "    }\n",
       "\n",
       "    .dataframe tbody tr th {\n",
       "        vertical-align: top;\n",
       "    }\n",
       "\n",
       "    .dataframe thead th {\n",
       "        text-align: right;\n",
       "    }\n",
       "</style>\n",
       "<table border=\"1\" class=\"dataframe\">\n",
       "  <thead>\n",
       "    <tr style=\"text-align: right;\">\n",
       "      <th></th>\n",
       "      <th>Date</th>\n",
       "      <th>Category</th>\n",
       "      <th>Brand</th>\n",
       "      <th>Day_of_Week</th>\n",
       "      <th>Holiday_Indicator</th>\n",
       "      <th>Past_Purchase_Trends</th>\n",
       "      <th>Price</th>\n",
       "      <th>Discount</th>\n",
       "      <th>Competitor_Price</th>\n",
       "      <th>Sales_Quantity</th>\n",
       "    </tr>\n",
       "  </thead>\n",
       "  <tbody>\n",
       "    <tr>\n",
       "      <th>14622</th>\n",
       "      <td>2021-01-05</td>\n",
       "      <td>Sports</td>\n",
       "      <td>BrandB</td>\n",
       "      <td>5</td>\n",
       "      <td>0</td>\n",
       "      <td>24.4</td>\n",
       "      <td>457.87</td>\n",
       "      <td>38.11</td>\n",
       "      <td>136.19</td>\n",
       "      <td>451.0</td>\n",
       "    </tr>\n",
       "    <tr>\n",
       "      <th>14991</th>\n",
       "      <td>2021-01-05</td>\n",
       "      <td>Sports</td>\n",
       "      <td>BrandC</td>\n",
       "      <td>5</td>\n",
       "      <td>0</td>\n",
       "      <td>59.1</td>\n",
       "      <td>98.34</td>\n",
       "      <td>12.54</td>\n",
       "      <td>70.34</td>\n",
       "      <td>125.0</td>\n",
       "    </tr>\n",
       "    <tr>\n",
       "      <th>4255</th>\n",
       "      <td>2021-01-05</td>\n",
       "      <td>Beauty</td>\n",
       "      <td>BrandE</td>\n",
       "      <td>5</td>\n",
       "      <td>0</td>\n",
       "      <td>54.9</td>\n",
       "      <td>262.91</td>\n",
       "      <td>42.77</td>\n",
       "      <td>173.73</td>\n",
       "      <td>483.0</td>\n",
       "    </tr>\n",
       "    <tr>\n",
       "      <th>12685</th>\n",
       "      <td>2021-01-05</td>\n",
       "      <td>Home</td>\n",
       "      <td>BrandC</td>\n",
       "      <td>5</td>\n",
       "      <td>0</td>\n",
       "      <td>79.6</td>\n",
       "      <td>342.60</td>\n",
       "      <td>35.44</td>\n",
       "      <td>443.02</td>\n",
       "      <td>209.0</td>\n",
       "    </tr>\n",
       "    <tr>\n",
       "      <th>2669</th>\n",
       "      <td>2021-01-05</td>\n",
       "      <td>Beauty</td>\n",
       "      <td>BrandA</td>\n",
       "      <td>5</td>\n",
       "      <td>0</td>\n",
       "      <td>36.7</td>\n",
       "      <td>271.56</td>\n",
       "      <td>18.94</td>\n",
       "      <td>349.97</td>\n",
       "      <td>388.0</td>\n",
       "    </tr>\n",
       "  </tbody>\n",
       "</table>\n",
       "</div>"
      ],
      "text/plain": [
       "             Date Category   Brand  Day_of_Week  Holiday_Indicator  \\\n",
       "14622  2021-01-05   Sports  BrandB            5                  0   \n",
       "14991  2021-01-05   Sports  BrandC            5                  0   \n",
       "4255   2021-01-05   Beauty  BrandE            5                  0   \n",
       "12685  2021-01-05     Home  BrandC            5                  0   \n",
       "2669   2021-01-05   Beauty  BrandA            5                  0   \n",
       "\n",
       "       Past_Purchase_Trends   Price  Discount  Competitor_Price  \\\n",
       "14622                  24.4  457.87     38.11            136.19   \n",
       "14991                  59.1   98.34     12.54             70.34   \n",
       "4255                   54.9  262.91     42.77            173.73   \n",
       "12685                  79.6  342.60     35.44            443.02   \n",
       "2669                   36.7  271.56     18.94            349.97   \n",
       "\n",
       "       Sales_Quantity  \n",
       "14622           451.0  \n",
       "14991           125.0  \n",
       "4255            483.0  \n",
       "12685           209.0  \n",
       "2669            388.0  "
      ]
     },
     "execution_count": 5,
     "metadata": {},
     "output_type": "execute_result"
    }
   ],
   "source": [
    "# convert the data to datetime format\n",
    "data['Date'] = pd.to_datetime(data['Date']).dt.date\n",
    "\n",
    "data = data.sort_values('Date')\n",
    "\n",
    "data.head()"
   ]
  },
  {
   "cell_type": "code",
   "execution_count": 6,
   "metadata": {},
   "outputs": [
    {
     "data": {
      "text/html": [
       "<div>\n",
       "<style scoped>\n",
       "    .dataframe tbody tr th:only-of-type {\n",
       "        vertical-align: middle;\n",
       "    }\n",
       "\n",
       "    .dataframe tbody tr th {\n",
       "        vertical-align: top;\n",
       "    }\n",
       "\n",
       "    .dataframe thead th {\n",
       "        text-align: right;\n",
       "    }\n",
       "</style>\n",
       "<table border=\"1\" class=\"dataframe\">\n",
       "  <thead>\n",
       "    <tr style=\"text-align: right;\">\n",
       "      <th></th>\n",
       "      <th>Date</th>\n",
       "      <th>Category</th>\n",
       "      <th>Brand</th>\n",
       "      <th>Day_of_Week</th>\n",
       "      <th>Holiday_Indicator</th>\n",
       "      <th>Past_Purchase_Trends</th>\n",
       "      <th>Price</th>\n",
       "      <th>Discount</th>\n",
       "      <th>Competitor_Price</th>\n",
       "      <th>Sales_Quantity</th>\n",
       "    </tr>\n",
       "  </thead>\n",
       "  <tbody>\n",
       "    <tr>\n",
       "      <th>7423</th>\n",
       "      <td>2024-12-07</td>\n",
       "      <td>Clothing</td>\n",
       "      <td>BrandB</td>\n",
       "      <td>4</td>\n",
       "      <td>0</td>\n",
       "      <td>56.4</td>\n",
       "      <td>219.54</td>\n",
       "      <td>13.14</td>\n",
       "      <td>274.24</td>\n",
       "      <td>274.0</td>\n",
       "    </tr>\n",
       "    <tr>\n",
       "      <th>7422</th>\n",
       "      <td>2024-12-07</td>\n",
       "      <td>Clothing</td>\n",
       "      <td>BrandB</td>\n",
       "      <td>4</td>\n",
       "      <td>0</td>\n",
       "      <td>97.3</td>\n",
       "      <td>119.73</td>\n",
       "      <td>6.13</td>\n",
       "      <td>96.05</td>\n",
       "      <td>246.0</td>\n",
       "    </tr>\n",
       "    <tr>\n",
       "      <th>17680</th>\n",
       "      <td>2024-12-07</td>\n",
       "      <td>Toys</td>\n",
       "      <td>BrandE</td>\n",
       "      <td>4</td>\n",
       "      <td>0</td>\n",
       "      <td>5.3</td>\n",
       "      <td>315.86</td>\n",
       "      <td>19.04</td>\n",
       "      <td>73.55</td>\n",
       "      <td>43.0</td>\n",
       "    </tr>\n",
       "    <tr>\n",
       "      <th>7425</th>\n",
       "      <td>2024-12-07</td>\n",
       "      <td>Clothing</td>\n",
       "      <td>BrandB</td>\n",
       "      <td>4</td>\n",
       "      <td>0</td>\n",
       "      <td>78.3</td>\n",
       "      <td>298.49</td>\n",
       "      <td>40.46</td>\n",
       "      <td>166.55</td>\n",
       "      <td>347.0</td>\n",
       "    </tr>\n",
       "    <tr>\n",
       "      <th>3499</th>\n",
       "      <td>2024-12-07</td>\n",
       "      <td>Beauty</td>\n",
       "      <td>BrandD</td>\n",
       "      <td>4</td>\n",
       "      <td>0</td>\n",
       "      <td>92.4</td>\n",
       "      <td>146.17</td>\n",
       "      <td>21.19</td>\n",
       "      <td>298.00</td>\n",
       "      <td>305.0</td>\n",
       "    </tr>\n",
       "  </tbody>\n",
       "</table>\n",
       "</div>"
      ],
      "text/plain": [
       "             Date  Category   Brand  Day_of_Week  Holiday_Indicator  \\\n",
       "7423   2024-12-07  Clothing  BrandB            4                  0   \n",
       "7422   2024-12-07  Clothing  BrandB            4                  0   \n",
       "17680  2024-12-07      Toys  BrandE            4                  0   \n",
       "7425   2024-12-07  Clothing  BrandB            4                  0   \n",
       "3499   2024-12-07    Beauty  BrandD            4                  0   \n",
       "\n",
       "       Past_Purchase_Trends   Price  Discount  Competitor_Price  \\\n",
       "7423                   56.4  219.54     13.14            274.24   \n",
       "7422                   97.3  119.73      6.13             96.05   \n",
       "17680                   5.3  315.86     19.04             73.55   \n",
       "7425                   78.3  298.49     40.46            166.55   \n",
       "3499                   92.4  146.17     21.19            298.00   \n",
       "\n",
       "       Sales_Quantity  \n",
       "7423            274.0  \n",
       "7422            246.0  \n",
       "17680            43.0  \n",
       "7425            347.0  \n",
       "3499            305.0  "
      ]
     },
     "execution_count": 6,
     "metadata": {},
     "output_type": "execute_result"
    }
   ],
   "source": [
    "data.tail()"
   ]
  },
  {
   "cell_type": "markdown",
   "metadata": {},
   "source": [
    "## Data Validation checks"
   ]
  },
  {
   "cell_type": "code",
   "execution_count": 7,
   "metadata": {},
   "outputs": [
    {
     "data": {
      "text/plain": [
       "0"
      ]
     },
     "execution_count": 7,
     "metadata": {},
     "output_type": "execute_result"
    }
   ],
   "source": [
    "# Check for duplicate values\n",
    "data.duplicated().sum()"
   ]
  },
  {
   "cell_type": "markdown",
   "metadata": {},
   "source": [
    "There are no duplicate values in the dataset."
   ]
  },
  {
   "cell_type": "markdown",
   "metadata": {},
   "source": [
    "#### Missing values"
   ]
  },
  {
   "cell_type": "code",
   "execution_count": 8,
   "metadata": {},
   "outputs": [
    {
     "data": {
      "text/plain": [
       "Date                      0\n",
       "Category                  0\n",
       "Brand                     0\n",
       "Day_of_Week               0\n",
       "Holiday_Indicator         0\n",
       "Past_Purchase_Trends      0\n",
       "Price                     0\n",
       "Discount                  0\n",
       "Competitor_Price          0\n",
       "Sales_Quantity          464\n",
       "dtype: int64"
      ]
     },
     "execution_count": 8,
     "metadata": {},
     "output_type": "execute_result"
    }
   ],
   "source": [
    "# check for missing values\n",
    "data.isna().sum()"
   ]
  },
  {
   "cell_type": "code",
   "execution_count": 9,
   "metadata": {},
   "outputs": [],
   "source": [
    "# View the rows with missing values\n",
    "missing_rows = data[data['Sales_Quantity'].isna()]"
   ]
  },
  {
   "cell_type": "code",
   "execution_count": 10,
   "metadata": {},
   "outputs": [
    {
     "data": {
      "text/plain": [
       "2.510414975923822"
      ]
     },
     "execution_count": 10,
     "metadata": {},
     "output_type": "execute_result"
    }
   ],
   "source": [
    "# Calculate the percentage of missing values\n",
    "missing_rows_percentage = (missing_rows.shape[0] / data.shape[0]) * 100\n",
    "\n",
    "missing_rows_percentage"
   ]
  },
  {
   "cell_type": "markdown",
   "metadata": {},
   "source": [
    "We can drop the rows with missing values as they represent a small percentage of the total dataset."
   ]
  },
  {
   "cell_type": "code",
   "execution_count": 11,
   "metadata": {},
   "outputs": [],
   "source": [
    "data.dropna(inplace=True)\n",
    "data.sort_values(\"Date\", inplace=True)"
   ]
  },
  {
   "cell_type": "markdown",
   "metadata": {},
   "source": [
    "\n",
    "## Time Series Plots"
   ]
  },
  {
   "cell_type": "markdown",
   "metadata": {},
   "source": [
    "### Time Series Plot"
   ]
  },
  {
   "cell_type": "code",
   "execution_count": 17,
   "metadata": {},
   "outputs": [
    {
     "data": {
      "image/png": "[encoded data removed]",
      "text/plain": [
       "<Figure size 1000x500 with 1 Axes>"
      ]
     },
     "metadata": {},
     "output_type": "display_data"
    }
   ],
   "source": [
    "# Plot the time series\n",
    "plt.figure(figsize=(10, 5))\n",
    "plt.plot(data[\"Date\"], data[\"Sales_Quantity\"])\n",
    "plt.show()"
   ]
  },
  {
   "cell_type": "markdown",
   "metadata": {},
   "source": [
    "### Seasonal Decomposition Plots"
   ]
  },
  {
   "cell_type": "code",
   "execution_count": 25,
   "metadata": {},
   "outputs": [
    {
     "ename": "ValueError",
     "evalue": "You must specify a period or x must be a pandas object with a PeriodIndex or a DatetimeIndex with a freq not set to None",
     "output_type": "error",
     "traceback": [
      "\u001b[1;31m---------------------------------------------------------------------------\u001b[0m",
      "\u001b[1;31mValueError\u001b[0m                                Traceback (most recent call last)",
      "Cell \u001b[1;32mIn[25], line 3\u001b[0m\n\u001b[0;32m      1\u001b[0m \u001b[38;5;28;01mfrom\u001b[39;00m\u001b[38;5;250m \u001b[39m\u001b[38;5;21;01mstatsmodels\u001b[39;00m\u001b[38;5;21;01m.\u001b[39;00m\u001b[38;5;21;01mtsa\u001b[39;00m\u001b[38;5;21;01m.\u001b[39;00m\u001b[38;5;21;01mseasonal\u001b[39;00m\u001b[38;5;250m \u001b[39m\u001b[38;5;28;01mimport\u001b[39;00m seasonal_decompose\n\u001b[1;32m----> 3\u001b[0m additive_results \u001b[38;5;241m=\u001b[39m \u001b[43mseasonal_decompose\u001b[49m\u001b[43m(\u001b[49m\u001b[43mdata\u001b[49m\u001b[38;5;241;43m.\u001b[39;49m\u001b[43mset_index\u001b[49m\u001b[43m(\u001b[49m\u001b[38;5;124;43m\"\u001b[39;49m\u001b[38;5;124;43mDate\u001b[39;49m\u001b[38;5;124;43m\"\u001b[39;49m\u001b[43m)\u001b[49m\u001b[43m[\u001b[49m\u001b[38;5;124;43m'\u001b[39;49m\u001b[38;5;124;43mSales_Quantity\u001b[39;49m\u001b[38;5;124;43m'\u001b[39;49m\u001b[43m]\u001b[49m\u001b[43m,\u001b[49m\u001b[43m \u001b[49m\u001b[43mmodel\u001b[49m\u001b[38;5;241;43m=\u001b[39;49m\u001b[38;5;124;43m'\u001b[39;49m\u001b[38;5;124;43madditive\u001b[39;49m\u001b[38;5;124;43m'\u001b[39;49m\u001b[43m)\u001b[49m\n",
      "File \u001b[1;32mD:\\Documents\\Competitions\\ecommerce_forecasting_competition\\.venv\\Lib\\site-packages\\statsmodels\\tsa\\seasonal.py:167\u001b[0m, in \u001b[0;36mseasonal_decompose\u001b[1;34m(x, model, filt, period, two_sided, extrapolate_trend)\u001b[0m\n\u001b[0;32m    165\u001b[0m         period \u001b[38;5;241m=\u001b[39m pfreq\n\u001b[0;32m    166\u001b[0m     \u001b[38;5;28;01melse\u001b[39;00m:\n\u001b[1;32m--> 167\u001b[0m         \u001b[38;5;28;01mraise\u001b[39;00m \u001b[38;5;167;01mValueError\u001b[39;00m(\n\u001b[0;32m    168\u001b[0m             \u001b[38;5;124m\"\u001b[39m\u001b[38;5;124mYou must specify a period or x must be a pandas object with \u001b[39m\u001b[38;5;124m\"\u001b[39m\n\u001b[0;32m    169\u001b[0m             \u001b[38;5;124m\"\u001b[39m\u001b[38;5;124ma PeriodIndex or a DatetimeIndex with a freq not set to None\u001b[39m\u001b[38;5;124m\"\u001b[39m\n\u001b[0;32m    170\u001b[0m         )\n\u001b[0;32m    171\u001b[0m \u001b[38;5;28;01mif\u001b[39;00m x\u001b[38;5;241m.\u001b[39mshape[\u001b[38;5;241m0\u001b[39m] \u001b[38;5;241m<\u001b[39m \u001b[38;5;241m2\u001b[39m \u001b[38;5;241m*\u001b[39m pfreq:\n\u001b[0;32m    172\u001b[0m     \u001b[38;5;28;01mraise\u001b[39;00m \u001b[38;5;167;01mValueError\u001b[39;00m(\n\u001b[0;32m    173\u001b[0m         \u001b[38;5;124mf\u001b[39m\u001b[38;5;124m\"\u001b[39m\u001b[38;5;124mx must have 2 complete cycles requires \u001b[39m\u001b[38;5;132;01m{\u001b[39;00m\u001b[38;5;241m2\u001b[39m\u001b[38;5;250m \u001b[39m\u001b[38;5;241m*\u001b[39m\u001b[38;5;250m \u001b[39mpfreq\u001b[38;5;132;01m}\u001b[39;00m\u001b[38;5;124m \u001b[39m\u001b[38;5;124m\"\u001b[39m\n\u001b[0;32m    174\u001b[0m         \u001b[38;5;124mf\u001b[39m\u001b[38;5;124m\"\u001b[39m\u001b[38;5;124mobservations. x only has \u001b[39m\u001b[38;5;132;01m{\u001b[39;00mx\u001b[38;5;241m.\u001b[39mshape[\u001b[38;5;241m0\u001b[39m]\u001b[38;5;132;01m}\u001b[39;00m\u001b[38;5;124m observation(s)\u001b[39m\u001b[38;5;124m\"\u001b[39m\n\u001b[0;32m    175\u001b[0m     )\n",
      "\u001b[1;31mValueError\u001b[0m: You must specify a period or x must be a pandas object with a PeriodIndex or a DatetimeIndex with a freq not set to None"
     ]
    }
   ],
   "source": [
    "from statsmodels.tsa.seasonal import seasonal_decompose\n",
    "\n",
    "# Ensure 'Date' is in datetime format and set as index\n",
    "data['Date'] = pd.to_datetime(data['Date'])\n",
    "data.set_index(\"Date\", inplace=True)\n",
    "\n",
    "# Perform seasonal decomposition\n",
    "additive_results = seasonal_decompose(data['Sales_Quantity'], model='additive')"
   ]
  },
  {
   "cell_type": "markdown",
   "metadata": {},
   "source": [
    "# Exploratory Data Analysis (EDA) using SweetViz"
   ]
  },
  {
   "cell_type": "code",
   "execution_count": null,
   "metadata": {},
   "outputs": [
    {
     "data": {
      "application/vnd.jupyter.widget-view+json": {
       "model_id": "192858a69fe848a49e0004c2a796fb91",
       "version_major": 2,
       "version_minor": 0
      },
      "text/plain": [
       "                                             |          | [  0%]   00:00 -> (? left)"
      ]
     },
     "metadata": {},
     "output_type": "display_data"
    },
    {
     "name": "stdout",
     "output_type": "stream",
     "text": [
      "Report eda_report.html was generated! NOTEBOOK/COLAB USERS: the web browser MAY not pop up, regardless, the report IS saved in your notebook/colab files.\n"
     ]
    }
   ],
   "source": [
    "import sweetviz as sv\n",
    "\n",
    "# Generate a SweetViz report\n",
    "\n",
    "report = sv.analyze(data, target_feat='Sales_Quantity')\n",
    "\n",
    "# Save the report to a HTML file\n",
    "report.show_html('../eda_report.html')\n"
   ]
  },
  {
   "cell_type": "code",
   "execution_count": null,
   "metadata": {},
   "outputs": [],
   "source": []
  }
 ],
 "metadata": {
  "kernelspec": {
   "display_name": ".venv",
   "language": "python",
   "name": "python3"
  },
  "language_info": {
   "codemirror_mode": {
    "name": "ipython",
    "version": 3
   },
   "file_extension": ".py",
   "mimetype": "text/x-python",
   "name": "python",
   "nbconvert_exporter": "python",
   "pygments_lexer": "ipython3",
   "version": "3.11.9"
  }
 },
 "nbformat": 4,
 "nbformat_minor": 4
}
