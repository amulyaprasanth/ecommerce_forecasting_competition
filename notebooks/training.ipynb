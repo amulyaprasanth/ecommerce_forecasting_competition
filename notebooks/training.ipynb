{
 "cells": [
  {
   "cell_type": "markdown",
   "metadata": {},
   "source": [
    "# Training Trails Notebook\n",
    "\n",
    "This notebook contains all the code for training the models and hyperparameter tuning. It is split into different sections for different models."
   ]
  },
  {
   "cell_type": "code",
   "execution_count": 1,
   "metadata": {},
   "outputs": [],
   "source": [
    "# Import required libraries\n",
    "import numpy as np\n",
    "import pandas as pd\n"
   ]
  },
  {
   "cell_type": "markdown",
   "metadata": {},
   "source": [
    "### Importing the dataset"
   ]
  },
  {
   "cell_type": "code",
   "execution_count": 2,
   "metadata": {},
   "outputs": [
    {
     "data": {
      "text/html": [
       "<div>\n",
       "<style scoped>\n",
       "    .dataframe tbody tr th:only-of-type {\n",
       "        vertical-align: middle;\n",
       "    }\n",
       "\n",
       "    .dataframe tbody tr th {\n",
       "        vertical-align: top;\n",
       "    }\n",
       "\n",
       "    .dataframe thead th {\n",
       "        text-align: right;\n",
       "    }\n",
       "</style>\n",
       "<table border=\"1\" class=\"dataframe\">\n",
       "  <thead>\n",
       "    <tr style=\"text-align: right;\">\n",
       "      <th></th>\n",
       "      <th>Date</th>\n",
       "      <th>Category</th>\n",
       "      <th>Brand</th>\n",
       "      <th>Day_of_Week</th>\n",
       "      <th>Holiday_Indicator</th>\n",
       "      <th>Past_Purchase_Trends</th>\n",
       "      <th>Price</th>\n",
       "      <th>Discount</th>\n",
       "      <th>Competitor_Price</th>\n",
       "      <th>Sales_Quantity</th>\n",
       "    </tr>\n",
       "  </thead>\n",
       "  <tbody>\n",
       "    <tr>\n",
       "      <th>0</th>\n",
       "      <td>26/09/24</td>\n",
       "      <td>Automotive</td>\n",
       "      <td>BrandA</td>\n",
       "      <td>3</td>\n",
       "      <td>0</td>\n",
       "      <td>17.9</td>\n",
       "      <td>462.30</td>\n",
       "      <td>33.96</td>\n",
       "      <td>359.45</td>\n",
       "      <td>227.0</td>\n",
       "    </tr>\n",
       "    <tr>\n",
       "      <th>1</th>\n",
       "      <td>26/09/24</td>\n",
       "      <td>Automotive</td>\n",
       "      <td>BrandA</td>\n",
       "      <td>3</td>\n",
       "      <td>0</td>\n",
       "      <td>66.3</td>\n",
       "      <td>321.28</td>\n",
       "      <td>24.76</td>\n",
       "      <td>49.47</td>\n",
       "      <td>370.0</td>\n",
       "    </tr>\n",
       "    <tr>\n",
       "      <th>2</th>\n",
       "      <td>26/09/24</td>\n",
       "      <td>Automotive</td>\n",
       "      <td>BrandA</td>\n",
       "      <td>3</td>\n",
       "      <td>0</td>\n",
       "      <td>14.4</td>\n",
       "      <td>74.85</td>\n",
       "      <td>32.19</td>\n",
       "      <td>245.11</td>\n",
       "      <td>299.0</td>\n",
       "    </tr>\n",
       "    <tr>\n",
       "      <th>3</th>\n",
       "      <td>26/09/24</td>\n",
       "      <td>Automotive</td>\n",
       "      <td>BrandA</td>\n",
       "      <td>3</td>\n",
       "      <td>0</td>\n",
       "      <td>34.7</td>\n",
       "      <td>469.12</td>\n",
       "      <td>43.68</td>\n",
       "      <td>144.08</td>\n",
       "      <td>426.0</td>\n",
       "    </tr>\n",
       "    <tr>\n",
       "      <th>4</th>\n",
       "      <td>22/09/24</td>\n",
       "      <td>Automotive</td>\n",
       "      <td>BrandA</td>\n",
       "      <td>6</td>\n",
       "      <td>1</td>\n",
       "      <td>93.5</td>\n",
       "      <td>221.76</td>\n",
       "      <td>36.79</td>\n",
       "      <td>478.07</td>\n",
       "      <td>470.0</td>\n",
       "    </tr>\n",
       "  </tbody>\n",
       "</table>\n",
       "</div>"
      ],
      "text/plain": [
       "       Date    Category   Brand  Day_of_Week  Holiday_Indicator  \\\n",
       "0  26/09/24  Automotive  BrandA            3                  0   \n",
       "1  26/09/24  Automotive  BrandA            3                  0   \n",
       "2  26/09/24  Automotive  BrandA            3                  0   \n",
       "3  26/09/24  Automotive  BrandA            3                  0   \n",
       "4  22/09/24  Automotive  BrandA            6                  1   \n",
       "\n",
       "   Past_Purchase_Trends   Price  Discount  Competitor_Price  Sales_Quantity  \n",
       "0                  17.9  462.30     33.96            359.45           227.0  \n",
       "1                  66.3  321.28     24.76             49.47           370.0  \n",
       "2                  14.4   74.85     32.19            245.11           299.0  \n",
       "3                  34.7  469.12     43.68            144.08           426.0  \n",
       "4                  93.5  221.76     36.79            478.07           470.0  "
      ]
     },
     "execution_count": 2,
     "metadata": {},
     "output_type": "execute_result"
    }
   ],
   "source": [
    "data = pd.read_csv(\"../data/Dataset/Train.csv\")\n",
    "data.head()"
   ]
  },
  {
   "cell_type": "code",
   "execution_count": 3,
   "metadata": {},
   "outputs": [],
   "source": [
    "# Drop the rows having missing values\n",
    "data.dropna(inplace=True)"
   ]
  },
  {
   "cell_type": "markdown",
   "metadata": {},
   "source": [
    "## Date Preprocessing"
   ]
  },
  {
   "cell_type": "code",
   "execution_count": 4,
   "metadata": {},
   "outputs": [
    {
     "data": {
      "text/html": [
       "<div>\n",
       "<style scoped>\n",
       "    .dataframe tbody tr th:only-of-type {\n",
       "        vertical-align: middle;\n",
       "    }\n",
       "\n",
       "    .dataframe tbody tr th {\n",
       "        vertical-align: top;\n",
       "    }\n",
       "\n",
       "    .dataframe thead th {\n",
       "        text-align: right;\n",
       "    }\n",
       "</style>\n",
       "<table border=\"1\" class=\"dataframe\">\n",
       "  <thead>\n",
       "    <tr style=\"text-align: right;\">\n",
       "      <th></th>\n",
       "      <th>Date</th>\n",
       "      <th>Category</th>\n",
       "      <th>Brand</th>\n",
       "      <th>Day_of_Week</th>\n",
       "      <th>Holiday_Indicator</th>\n",
       "      <th>Past_Purchase_Trends</th>\n",
       "      <th>Price</th>\n",
       "      <th>Discount</th>\n",
       "      <th>Competitor_Price</th>\n",
       "      <th>Sales_Quantity</th>\n",
       "    </tr>\n",
       "  </thead>\n",
       "  <tbody>\n",
       "    <tr>\n",
       "      <th>0</th>\n",
       "      <td>26/09/24</td>\n",
       "      <td>Automotive</td>\n",
       "      <td>BrandA</td>\n",
       "      <td>3</td>\n",
       "      <td>0</td>\n",
       "      <td>17.9</td>\n",
       "      <td>462.30</td>\n",
       "      <td>33.96</td>\n",
       "      <td>359.45</td>\n",
       "      <td>227.0</td>\n",
       "    </tr>\n",
       "    <tr>\n",
       "      <th>1</th>\n",
       "      <td>26/09/24</td>\n",
       "      <td>Automotive</td>\n",
       "      <td>BrandA</td>\n",
       "      <td>3</td>\n",
       "      <td>0</td>\n",
       "      <td>66.3</td>\n",
       "      <td>321.28</td>\n",
       "      <td>24.76</td>\n",
       "      <td>49.47</td>\n",
       "      <td>370.0</td>\n",
       "    </tr>\n",
       "    <tr>\n",
       "      <th>2</th>\n",
       "      <td>26/09/24</td>\n",
       "      <td>Automotive</td>\n",
       "      <td>BrandA</td>\n",
       "      <td>3</td>\n",
       "      <td>0</td>\n",
       "      <td>14.4</td>\n",
       "      <td>74.85</td>\n",
       "      <td>32.19</td>\n",
       "      <td>245.11</td>\n",
       "      <td>299.0</td>\n",
       "    </tr>\n",
       "    <tr>\n",
       "      <th>3</th>\n",
       "      <td>26/09/24</td>\n",
       "      <td>Automotive</td>\n",
       "      <td>BrandA</td>\n",
       "      <td>3</td>\n",
       "      <td>0</td>\n",
       "      <td>34.7</td>\n",
       "      <td>469.12</td>\n",
       "      <td>43.68</td>\n",
       "      <td>144.08</td>\n",
       "      <td>426.0</td>\n",
       "    </tr>\n",
       "    <tr>\n",
       "      <th>4</th>\n",
       "      <td>22/09/24</td>\n",
       "      <td>Automotive</td>\n",
       "      <td>BrandA</td>\n",
       "      <td>6</td>\n",
       "      <td>1</td>\n",
       "      <td>93.5</td>\n",
       "      <td>221.76</td>\n",
       "      <td>36.79</td>\n",
       "      <td>478.07</td>\n",
       "      <td>470.0</td>\n",
       "    </tr>\n",
       "  </tbody>\n",
       "</table>\n",
       "</div>"
      ],
      "text/plain": [
       "       Date    Category   Brand  Day_of_Week  Holiday_Indicator  \\\n",
       "0  26/09/24  Automotive  BrandA            3                  0   \n",
       "1  26/09/24  Automotive  BrandA            3                  0   \n",
       "2  26/09/24  Automotive  BrandA            3                  0   \n",
       "3  26/09/24  Automotive  BrandA            3                  0   \n",
       "4  22/09/24  Automotive  BrandA            6                  1   \n",
       "\n",
       "   Past_Purchase_Trends   Price  Discount  Competitor_Price  Sales_Quantity  \n",
       "0                  17.9  462.30     33.96            359.45           227.0  \n",
       "1                  66.3  321.28     24.76             49.47           370.0  \n",
       "2                  14.4   74.85     32.19            245.11           299.0  \n",
       "3                  34.7  469.12     43.68            144.08           426.0  \n",
       "4                  93.5  221.76     36.79            478.07           470.0  "
      ]
     },
     "execution_count": 4,
     "metadata": {},
     "output_type": "execute_result"
    }
   ],
   "source": [
    "data.head()"
   ]
  },
  {
   "cell_type": "code",
   "execution_count": 5,
   "metadata": {},
   "outputs": [
    {
     "name": "stderr",
     "output_type": "stream",
     "text": [
      "C:\\Users\\amuly\\AppData\\Local\\Temp\\ipykernel_14376\\3682652632.py:2: UserWarning: Could not infer format, so each element will be parsed individually, falling back to `dateutil`. To ensure parsing is consistent and as-expected, please specify a format.\n",
      "  data['Date'] = pd.to_datetime(data['Date'])\n"
     ]
    }
   ],
   "source": [
    "# convert the date to datetime format and set as index\n",
    "data['Date'] = pd.to_datetime(data['Date'])\n",
    "data.set_index('Date', inplace=True)"
   ]
  },
  {
   "cell_type": "markdown",
   "metadata": {},
   "source": [
    "## Date Preprocessing"
   ]
  },
  {
   "cell_type": "code",
   "execution_count": 6,
   "metadata": {},
   "outputs": [],
   "source": [
    "# Split the data into features and labels\n",
    "X = data.drop(\"Sales_Quantity\", axis=1)\n",
    "y = data['Sales_Quantity']"
   ]
  },
  {
   "cell_type": "code",
   "execution_count": 7,
   "metadata": {},
   "outputs": [
    {
     "data": {
      "text/html": [
       "<div>\n",
       "<style scoped>\n",
       "    .dataframe tbody tr th:only-of-type {\n",
       "        vertical-align: middle;\n",
       "    }\n",
       "\n",
       "    .dataframe tbody tr th {\n",
       "        vertical-align: top;\n",
       "    }\n",
       "\n",
       "    .dataframe thead th {\n",
       "        text-align: right;\n",
       "    }\n",
       "</style>\n",
       "<table border=\"1\" class=\"dataframe\">\n",
       "  <thead>\n",
       "    <tr style=\"text-align: right;\">\n",
       "      <th></th>\n",
       "      <th>Category</th>\n",
       "      <th>Brand</th>\n",
       "      <th>Day_of_Week</th>\n",
       "      <th>Holiday_Indicator</th>\n",
       "      <th>Past_Purchase_Trends</th>\n",
       "      <th>Price</th>\n",
       "      <th>Discount</th>\n",
       "      <th>Competitor_Price</th>\n",
       "    </tr>\n",
       "    <tr>\n",
       "      <th>Date</th>\n",
       "      <th></th>\n",
       "      <th></th>\n",
       "      <th></th>\n",
       "      <th></th>\n",
       "      <th></th>\n",
       "      <th></th>\n",
       "      <th></th>\n",
       "      <th></th>\n",
       "    </tr>\n",
       "  </thead>\n",
       "  <tbody>\n",
       "    <tr>\n",
       "      <th>2024-09-26</th>\n",
       "      <td>Automotive</td>\n",
       "      <td>BrandA</td>\n",
       "      <td>3</td>\n",
       "      <td>0</td>\n",
       "      <td>17.9</td>\n",
       "      <td>462.30</td>\n",
       "      <td>33.96</td>\n",
       "      <td>359.45</td>\n",
       "    </tr>\n",
       "    <tr>\n",
       "      <th>2024-09-26</th>\n",
       "      <td>Automotive</td>\n",
       "      <td>BrandA</td>\n",
       "      <td>3</td>\n",
       "      <td>0</td>\n",
       "      <td>66.3</td>\n",
       "      <td>321.28</td>\n",
       "      <td>24.76</td>\n",
       "      <td>49.47</td>\n",
       "    </tr>\n",
       "    <tr>\n",
       "      <th>2024-09-26</th>\n",
       "      <td>Automotive</td>\n",
       "      <td>BrandA</td>\n",
       "      <td>3</td>\n",
       "      <td>0</td>\n",
       "      <td>14.4</td>\n",
       "      <td>74.85</td>\n",
       "      <td>32.19</td>\n",
       "      <td>245.11</td>\n",
       "    </tr>\n",
       "    <tr>\n",
       "      <th>2024-09-26</th>\n",
       "      <td>Automotive</td>\n",
       "      <td>BrandA</td>\n",
       "      <td>3</td>\n",
       "      <td>0</td>\n",
       "      <td>34.7</td>\n",
       "      <td>469.12</td>\n",
       "      <td>43.68</td>\n",
       "      <td>144.08</td>\n",
       "    </tr>\n",
       "    <tr>\n",
       "      <th>2024-09-22</th>\n",
       "      <td>Automotive</td>\n",
       "      <td>BrandA</td>\n",
       "      <td>6</td>\n",
       "      <td>1</td>\n",
       "      <td>93.5</td>\n",
       "      <td>221.76</td>\n",
       "      <td>36.79</td>\n",
       "      <td>478.07</td>\n",
       "    </tr>\n",
       "  </tbody>\n",
       "</table>\n",
       "</div>"
      ],
      "text/plain": [
       "              Category   Brand  Day_of_Week  Holiday_Indicator  \\\n",
       "Date                                                             \n",
       "2024-09-26  Automotive  BrandA            3                  0   \n",
       "2024-09-26  Automotive  BrandA            3                  0   \n",
       "2024-09-26  Automotive  BrandA            3                  0   \n",
       "2024-09-26  Automotive  BrandA            3                  0   \n",
       "2024-09-22  Automotive  BrandA            6                  1   \n",
       "\n",
       "            Past_Purchase_Trends   Price  Discount  Competitor_Price  \n",
       "Date                                                                  \n",
       "2024-09-26                  17.9  462.30     33.96            359.45  \n",
       "2024-09-26                  66.3  321.28     24.76             49.47  \n",
       "2024-09-26                  14.4   74.85     32.19            245.11  \n",
       "2024-09-26                  34.7  469.12     43.68            144.08  \n",
       "2024-09-22                  93.5  221.76     36.79            478.07  "
      ]
     },
     "execution_count": 7,
     "metadata": {},
     "output_type": "execute_result"
    }
   ],
   "source": [
    "X.head()"
   ]
  },
  {
   "cell_type": "code",
   "execution_count": 8,
   "metadata": {},
   "outputs": [
    {
     "data": {
      "text/plain": [
       "Date\n",
       "2024-09-26    227.0\n",
       "2024-09-26    370.0\n",
       "2024-09-26    299.0\n",
       "2024-09-26    426.0\n",
       "2024-09-22    470.0\n",
       "Name: Sales_Quantity, dtype: float64"
      ]
     },
     "execution_count": 8,
     "metadata": {},
     "output_type": "execute_result"
    }
   ],
   "source": [
    "y.head()"
   ]
  },
  {
   "cell_type": "code",
   "execution_count": 9,
   "metadata": {},
   "outputs": [],
   "source": [
    "split_size = int(0.8 * len(data))\n",
    "X_train, y_train = X[:split_size], y[:split_size]\n",
    "X_val, y_val = X[split_size:], y[split_size:]"
   ]
  },
  {
   "cell_type": "code",
   "execution_count": 10,
   "metadata": {},
   "outputs": [
    {
     "data": {
      "text/plain": [
       "((14415, 8), (14415,), (3604, 8), (3604,))"
      ]
     },
     "execution_count": 10,
     "metadata": {},
     "output_type": "execute_result"
    }
   ],
   "source": [
    "# Get the shapes of train and val splits\n",
    "X_train.shape, y_train.shape, X_val.shape, y_val.shape"
   ]
  },
  {
   "cell_type": "markdown",
   "metadata": {},
   "source": [
    "#### Preprocessor Pipeline"
   ]
  },
  {
   "cell_type": "code",
   "execution_count": 11,
   "metadata": {},
   "outputs": [],
   "source": [
    "from sklearn.preprocessing import OneHotEncoder, StandardScaler\n",
    "from sklearn.compose import ColumnTransformer\n",
    "from sklearn.pipeline import Pipeline"
   ]
  },
  {
   "cell_type": "code",
   "execution_count": 12,
   "metadata": {},
   "outputs": [],
   "source": [
    "# Define numerical transformer\n",
    "numerical_transformer = Pipeline(\n",
    "    steps = [\n",
    "        ('scaler', StandardScaler())\n",
    "    ]\n",
    ")\n",
    "\n",
    "categorical_transformer = Pipeline(\n",
    "    steps = [\n",
    "        ('one_hot_encoder',OneHotEncoder(handle_unknown='ignore', sparse_output=False))\n",
    "    ]\n",
    ")\n",
    "\n",
    "num_columns = list(X.select_dtypes(include=[\"number\"]).columns)\n",
    "cat_columns = list(X.select_dtypes(exclude=[\"number\"]).columns)\n",
    "\n",
    "preprocessor = ColumnTransformer(\n",
    "    transformers = [\n",
    "        ('num_transformer', numerical_transformer, num_columns),\n",
    "        ('cat_transformer', categorical_transformer, cat_columns)\n",
    "    ]\n",
    ")"
   ]
  },
  {
   "cell_type": "code",
   "execution_count": 17,
   "metadata": {},
   "outputs": [
    {
     "data": {
      "text/plain": [
       "(['Day_of_Week',\n",
       "  'Holiday_Indicator',\n",
       "  'Past_Purchase_Trends',\n",
       "  'Price',\n",
       "  'Discount',\n",
       "  'Competitor_Price'],\n",
       " ['Category', 'Brand'])"
      ]
     },
     "execution_count": 17,
     "metadata": {},
     "output_type": "execute_result"
    }
   ],
   "source": [
    "num_columns, cat_columns"
   ]
  },
  {
   "cell_type": "code",
   "execution_count": 13,
   "metadata": {},
   "outputs": [],
   "source": [
    "# Transform the data\n",
    "X_train_transformed = np.array(preprocessor.fit_transform(X_train))\n",
    "X_val_transformed = np.array(preprocessor.transform(X_val))"
   ]
  },
  {
   "cell_type": "markdown",
   "metadata": {},
   "source": [
    "## Modelling"
   ]
  },
  {
   "cell_type": "code",
   "execution_count": 14,
   "metadata": {},
   "outputs": [],
   "source": [
    "import torch\n",
    "from torch import nn\n",
    "from torch.utils.data import Dataset, DataLoader\n",
    "\n",
    "from sklearn.metrics import root_mean_squared_error"
   ]
  },
  {
   "cell_type": "code",
   "execution_count": 15,
   "metadata": {},
   "outputs": [],
   "source": [
    "# Create Dataset\n",
    "class SalesDataset(Dataset):\n",
    "    \"\"\" Dataset for Sales Quantity prediction \"\"\"\n",
    "    def __init__(self, X: np.ndarray, y: np.ndarray):\n",
    "       super().__init__()\n",
    "       self.X = X\n",
    "       self.y = y\n",
    "    \n",
    "    def __len__(self):\n",
    "       return len(self.X)\n",
    "    \n",
    "    def __getitem__(self, idx):\n",
    "       return torch.tensor(self.X[idx], dtype=torch.float32), torch.tensor(self.y[idx], dtype=torch.float32)"
   ]
  },
  {
   "cell_type": "code",
   "execution_count": 16,
   "metadata": {},
   "outputs": [],
   "source": [
    "# Create DataLoaders\n",
    "\n",
    "train_dataset = SalesDataset(X_train_transformed, y_train)\n",
    "val_dataset = SalesDataset(X_val_transformed, y_val)\n",
    "\n",
    "train_dataloader = DataLoader(train_dataset, batch_size=32, shuffle=True)\n",
    "val_dataloader = DataLoader(val_dataset, batch_size=32, shuffle=False)"
   ]
  },
  {
   "cell_type": "code",
   "execution_count": null,
   "metadata": {},
   "outputs": [],
   "source": []
  }
 ],
 "metadata": {
  "kernelspec": {
   "display_name": ".venv",
   "language": "python",
   "name": "python3"
  },
  "language_info": {
   "codemirror_mode": {
    "name": "ipython",
    "version": 3
   },
   "file_extension": ".py",
   "mimetype": "text/x-python",
   "name": "python",
   "nbconvert_exporter": "python",
   "pygments_lexer": "ipython3",
   "version": "3.11.9"
  }
 },
 "nbformat": 4,
 "nbformat_minor": 4
}
